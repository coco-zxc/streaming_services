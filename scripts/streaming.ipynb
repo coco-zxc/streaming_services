{
 "cells": [
  {
   "cell_type": "markdown",
   "metadata": {},
   "source": [
    "# Streaming Services\n",
    "*by Jorge Garcia*\n",
    "\n",
    "## Table of Contents\n",
    "1. [About this Project](#about-this-project)\n",
    "2. [The data](#the-data)\n",
    "    1. [Unifying the data](#unifying-the-data)\n",
    "    2. [Data Cleaning](#data-cleaning)\n",
    "3. [Initial EDA](#initial-eda)\n",
    "\n",
    "## About this Project <a class = \"anchor\" id=\"about-this-project\"></a>\n",
    "\n",
    "While browsing some datasets on [Kaggle](https://kaggle.com), some datasets by the user [Shivam Bansal](https://www.kaggle.com/shivamb) peeked my interest. I decided to perform some Exploratory Data Analysis. \n",
    "\n",
    "The data was last updated on 2021, which is not ideal. However, the data can be used to create predictions that can then be validated with modern data. More specifically, any possible trends in streaming content, which today has shifted due to the market shifts, but more importantly, by the Writers and Actors Strike of 2023.\n",
    "\n",
    "The question to answer is: In the data of streaming services, were there indicators\n"
   ]
  },
  {
   "cell_type": "markdown",
   "metadata": {},
   "source": [
    "## The data <a class = \"anchor\" id=\"the-data\"></a>"
   ]
  },
  {
   "cell_type": "code",
   "execution_count": 1,
   "metadata": {},
   "outputs": [],
   "source": [
    "# Initializing libraries and reading csv files\n",
    "from numpy import NaN,zeros\n",
    "import pandas as pd\n",
    "import matplotlib as mpl\n",
    "import matplotlib.pyplot as plt\n",
    "\n",
    "amazon = pd.read_csv('data/amazon_prime_titles.csv')\n",
    "disney = pd.read_csv('data/disney_plus_titles.csv')\n",
    "hulu   = pd.read_csv('data/hulu_titles.csv')\n",
    "netflix= pd.read_csv('data/netflix_titles.csv')"
   ]
  },
  {
   "cell_type": "markdown",
   "metadata": {},
   "source": [
    "### Unifying the data <a class = \"anchor\" id=\"unifying-the-data\"></a>\n",
    "All of the datasets have the same format, with the same column names and variable types. In order to create visualizations comparing each streaming platform to each other, we can join these datasets into a single, master dataset.\n",
    "\n",
    "To do this we will complete 3 steps:\n",
    "1. Add a new column to each DataFrame with the information of the streaming platform.\n",
    "2. Modify the values of the \"show id\" column to ensure they are unique once all DataFrames are joined together.\n",
    "3. Concatenate DataFrames into a single, master DataFrame."
   ]
  },
  {
   "cell_type": "code",
   "execution_count": 2,
   "metadata": {},
   "outputs": [
    {
     "data": {
      "text/html": [
       "<div>\n",
       "<style scoped>\n",
       "    .dataframe tbody tr th:only-of-type {\n",
       "        vertical-align: middle;\n",
       "    }\n",
       "\n",
       "    .dataframe tbody tr th {\n",
       "        vertical-align: top;\n",
       "    }\n",
       "\n",
       "    .dataframe thead th {\n",
       "        text-align: right;\n",
       "    }\n",
       "</style>\n",
       "<table border=\"1\" class=\"dataframe\">\n",
       "  <thead>\n",
       "    <tr style=\"text-align: right;\">\n",
       "      <th></th>\n",
       "      <th>show_id</th>\n",
       "      <th>type</th>\n",
       "      <th>title</th>\n",
       "      <th>director</th>\n",
       "      <th>cast</th>\n",
       "      <th>country</th>\n",
       "      <th>date_added</th>\n",
       "      <th>release_year</th>\n",
       "      <th>rating</th>\n",
       "      <th>duration</th>\n",
       "      <th>listed_in</th>\n",
       "      <th>description</th>\n",
       "      <th>streaming_platform</th>\n",
       "    </tr>\n",
       "  </thead>\n",
       "  <tbody>\n",
       "    <tr>\n",
       "      <th>22993</th>\n",
       "      <td>nes8803</td>\n",
       "      <td>Movie</td>\n",
       "      <td>Zodiac</td>\n",
       "      <td>David Fincher</td>\n",
       "      <td>Mark Ruffalo, Jake Gyllenhaal, Robert Downey J...</td>\n",
       "      <td>United States</td>\n",
       "      <td>November 20, 2019</td>\n",
       "      <td>2007</td>\n",
       "      <td>R</td>\n",
       "      <td>158 min</td>\n",
       "      <td>Cult Movies, Dramas, Thrillers</td>\n",
       "      <td>A political cartoonist, a crime reporter and a...</td>\n",
       "      <td>netflix</td>\n",
       "    </tr>\n",
       "    <tr>\n",
       "      <th>22994</th>\n",
       "      <td>nes8804</td>\n",
       "      <td>TV Show</td>\n",
       "      <td>Zombie Dumb</td>\n",
       "      <td>NaN</td>\n",
       "      <td>NaN</td>\n",
       "      <td>NaN</td>\n",
       "      <td>July 1, 2019</td>\n",
       "      <td>2018</td>\n",
       "      <td>TV-Y7</td>\n",
       "      <td>2 Seasons</td>\n",
       "      <td>Kids' TV, Korean TV Shows, TV Comedies</td>\n",
       "      <td>While living alone in a spooky town, a young g...</td>\n",
       "      <td>netflix</td>\n",
       "    </tr>\n",
       "    <tr>\n",
       "      <th>22995</th>\n",
       "      <td>nes8805</td>\n",
       "      <td>Movie</td>\n",
       "      <td>Zombieland</td>\n",
       "      <td>Ruben Fleischer</td>\n",
       "      <td>Jesse Eisenberg, Woody Harrelson, Emma Stone, ...</td>\n",
       "      <td>United States</td>\n",
       "      <td>November 1, 2019</td>\n",
       "      <td>2009</td>\n",
       "      <td>R</td>\n",
       "      <td>88 min</td>\n",
       "      <td>Comedies, Horror Movies</td>\n",
       "      <td>Looking to survive in a world taken over by zo...</td>\n",
       "      <td>netflix</td>\n",
       "    </tr>\n",
       "    <tr>\n",
       "      <th>22996</th>\n",
       "      <td>nes8806</td>\n",
       "      <td>Movie</td>\n",
       "      <td>Zoom</td>\n",
       "      <td>Peter Hewitt</td>\n",
       "      <td>Tim Allen, Courteney Cox, Chevy Chase, Kate Ma...</td>\n",
       "      <td>United States</td>\n",
       "      <td>January 11, 2020</td>\n",
       "      <td>2006</td>\n",
       "      <td>PG</td>\n",
       "      <td>88 min</td>\n",
       "      <td>Children &amp; Family Movies, Comedies</td>\n",
       "      <td>Dragged from civilian life, a former superhero...</td>\n",
       "      <td>netflix</td>\n",
       "    </tr>\n",
       "    <tr>\n",
       "      <th>22997</th>\n",
       "      <td>nes8807</td>\n",
       "      <td>Movie</td>\n",
       "      <td>Zubaan</td>\n",
       "      <td>Mozez Singh</td>\n",
       "      <td>Vicky Kaushal, Sarah-Jane Dias, Raaghav Chanan...</td>\n",
       "      <td>India</td>\n",
       "      <td>March 2, 2019</td>\n",
       "      <td>2015</td>\n",
       "      <td>TV-14</td>\n",
       "      <td>111 min</td>\n",
       "      <td>Dramas, International Movies, Music &amp; Musicals</td>\n",
       "      <td>A scrappy but poor boy worms his way into a ty...</td>\n",
       "      <td>netflix</td>\n",
       "    </tr>\n",
       "  </tbody>\n",
       "</table>\n",
       "</div>"
      ],
      "text/plain": [
       "       show_id     type        title         director  \\\n",
       "22993  nes8803    Movie       Zodiac    David Fincher   \n",
       "22994  nes8804  TV Show  Zombie Dumb              NaN   \n",
       "22995  nes8805    Movie   Zombieland  Ruben Fleischer   \n",
       "22996  nes8806    Movie         Zoom     Peter Hewitt   \n",
       "22997  nes8807    Movie       Zubaan      Mozez Singh   \n",
       "\n",
       "                                                    cast        country  \\\n",
       "22993  Mark Ruffalo, Jake Gyllenhaal, Robert Downey J...  United States   \n",
       "22994                                                NaN            NaN   \n",
       "22995  Jesse Eisenberg, Woody Harrelson, Emma Stone, ...  United States   \n",
       "22996  Tim Allen, Courteney Cox, Chevy Chase, Kate Ma...  United States   \n",
       "22997  Vicky Kaushal, Sarah-Jane Dias, Raaghav Chanan...          India   \n",
       "\n",
       "              date_added  release_year rating   duration  \\\n",
       "22993  November 20, 2019          2007      R    158 min   \n",
       "22994       July 1, 2019          2018  TV-Y7  2 Seasons   \n",
       "22995   November 1, 2019          2009      R     88 min   \n",
       "22996   January 11, 2020          2006     PG     88 min   \n",
       "22997      March 2, 2019          2015  TV-14    111 min   \n",
       "\n",
       "                                            listed_in  \\\n",
       "22993                  Cult Movies, Dramas, Thrillers   \n",
       "22994          Kids' TV, Korean TV Shows, TV Comedies   \n",
       "22995                         Comedies, Horror Movies   \n",
       "22996              Children & Family Movies, Comedies   \n",
       "22997  Dramas, International Movies, Music & Musicals   \n",
       "\n",
       "                                             description streaming_platform  \n",
       "22993  A political cartoonist, a crime reporter and a...            netflix  \n",
       "22994  While living alone in a spooky town, a young g...            netflix  \n",
       "22995  Looking to survive in a world taken over by zo...            netflix  \n",
       "22996  Dragged from civilian life, a former superhero...            netflix  \n",
       "22997  A scrappy but poor boy worms his way into a ty...            netflix  "
      ]
     },
     "execution_count": 2,
     "metadata": {},
     "output_type": "execute_result"
    }
   ],
   "source": [
    "# STEP 1: Add \"streaming_platform\" column to dataframes\n",
    "amazon[\"streaming_platform\"] = 'amazon prime'\n",
    "disney[\"streaming_platform\"] = 'disney plus'\n",
    "hulu[\"streaming_platform\"]   = 'hulu'\n",
    "netflix[\"streaming_platform\"]= 'netflix'\n",
    "\n",
    "# STEP 2: Modify \"show_id\" columns\n",
    "amazon['show_id']   = 'am' + amazon[\"show_id\"]\n",
    "disney['show_id']   = 'di' + disney[\"show_id\"]\n",
    "hulu['show_id']     = 'hu' + hulu[\"show_id\"]\n",
    "netflix['show_id']  = 'ne' + netflix[\"show_id\"]\n",
    "\n",
    "# STEP 3: Concatenate all DataFrames\n",
    "\n",
    "streaming_platforms = pd.concat(objs=[amazon,disney,hulu,netflix],axis=0).reset_index(drop=True)\n",
    "\n",
    "streaming_platforms.tail()"
   ]
  },
  {
   "cell_type": "markdown",
   "metadata": {},
   "source": [
    "### Data Cleaning <a class = \"anchor\" id=\"data-cleaning\"></a>"
   ]
  },
  {
   "cell_type": "markdown",
   "metadata": {},
   "source": [
    "Now that we have a single dataframe, we can correct some of the data formats to make it more usable. To do this we will **redefine column types** and **normalize data contents**. Here is the full list of edits made for each column:\n",
    "\n",
    "1. \"cast\", \"listed_in\", \"country\"\n",
    "    - these columns include lists of values as a single string, they were changed from str type to list type\n",
    "2. \"date added\" and \"release year\"\n",
    "    - change date added to datetime format and release year to int\n",
    "3. \"duration\"\n",
    "    - erased \" min\" from the data values, changed type to int"
   ]
  },
  {
   "cell_type": "code",
   "execution_count": 3,
   "metadata": {},
   "outputs": [],
   "source": [
    "from functions import str_to_list\n",
    "\n",
    "#Change Cast & listed_in columns from string to list:\n",
    "streaming_platforms = str_to_list(streaming_platforms,\"cast\")\n",
    "streaming_platforms = str_to_list(streaming_platforms,\"listed_in\")\n",
    "streaming_platforms = str_to_list(streaming_platforms,\"country\")\n",
    "\n",
    "#Change date added and release year to date formats\n",
    "streaming_platforms[\"date_added\"] = pd.to_datetime(streaming_platforms[\"date_added\"])\n",
    "streaming_platforms[\"release_year\"] = pd.to_numeric(streaming_platforms[\"release_year\"])\n",
    "\n",
    "#Erase unnecessary information from run time, converted data type to int\n",
    "streaming_platforms[\"duration\"].replace(\"nan\",NaN)\n",
    "new_duration = []\n",
    "for duration in streaming_platforms[\"duration\"].values:\n",
    "    new_duration.append(str(duration).split(\" \")[0])\n",
    "\n",
    "streaming_platforms[\"duration\"] = pd.to_numeric(pd.Series(new_duration),errors='coerce')\n",
    "\n"
   ]
  },
  {
   "cell_type": "code",
   "execution_count": 4,
   "metadata": {},
   "outputs": [
    {
     "data": {
      "text/plain": [
       "show_id                       object\n",
       "type                          object\n",
       "title                         object\n",
       "director                      object\n",
       "cast                          object\n",
       "country                       object\n",
       "date_added            datetime64[ns]\n",
       "release_year                   int64\n",
       "rating                        object\n",
       "duration                     float64\n",
       "listed_in                     object\n",
       "description                   object\n",
       "streaming_platform            object\n",
       "dtype: object"
      ]
     },
     "execution_count": 4,
     "metadata": {},
     "output_type": "execute_result"
    }
   ],
   "source": [
    "#Clean Data frame ready for analysis\n",
    "streaming_platforms.dtypes"
   ]
  },
  {
   "cell_type": "markdown",
   "metadata": {},
   "source": [
    "### Initial EDA <a class = \"anchor\" id=\"initial-eda\"></a>"
   ]
  },
  {
   "cell_type": "markdown",
   "metadata": {},
   "source": [
    "As an initial exploration of the data, lets create some initial indicators. First, the global top 20 countries that have content published on these platforms."
   ]
  },
  {
   "cell_type": "code",
   "execution_count": 5,
   "metadata": {},
   "outputs": [
    {
     "data": {
      "text/plain": [
       "United States     6305\n",
       "India             1299\n",
       "United Kingdom    1174\n",
       "Canada             645\n",
       "Japan              615\n",
       "France             475\n",
       "Germany            293\n",
       "South Korea        260\n",
       "Spain              258\n",
       "Australia          225\n",
       "Mexico             185\n",
       "China              184\n",
       "Italy              126\n",
       "Egypt              119\n",
       "Hong Kong          113\n",
       "Turkey             113\n",
       "Belgium            109\n",
       "Brazil             104\n",
       "Nigeria            103\n",
       "Argentina           97\n",
       "dtype: int64"
      ]
     },
     "execution_count": 5,
     "metadata": {},
     "output_type": "execute_result"
    }
   ],
   "source": [
    "from functions import flatten\n",
    "\n",
    "top_20_countries = flatten(streaming_platforms[\"country\"].values).value_counts()[1:21]\n",
    "top_20_countries"
   ]
  },
  {
   "cell_type": "code",
   "execution_count": 6,
   "metadata": {},
   "outputs": [],
   "source": [
    "df1 = pd.DataFrame(index=top_20_countries.index.values,columns=[\"amazon prime\",\"disney plus\",\"hulu\",\"netflix\"])\n",
    "\n",
    "countries = []\n",
    "platforms = []\n",
    "for row in streaming_platforms[[\"country\",\"streaming_platform\"]].values:\n",
    "    for value in row[0]:\n",
    "        countries.append(value)\n",
    "        platforms.append(row[1])\n",
    "\n",
    "df=pd.DataFrame()\n",
    "df[\"countries\"] = countries\n",
    "df[\"platform\"] = platforms\n",
    "\n",
    "search = df.value_counts()\n",
    "\n",
    "for country in top_20_countries.index.values:\n",
    "    for platform in [\"amazon prime\",\"disney plus\",\"hulu\",\"netflix\"]:\n",
    "        try:\n",
    "            df1.at[country,platform] = int(search[country][platform])\n",
    "        except:\n",
    "            df1.at[country,platform] = 0\n",
    "\n",
    "df1 = df1.apply(pd.to_numeric).sort_values(by=\"netflix\",ascending=True)"
   ]
  },
  {
   "cell_type": "code",
   "execution_count": 7,
   "metadata": {},
   "outputs": [
    {
     "data": {
      "text/plain": [
       "<matplotlib.legend.Legend at 0x145c61450>"
      ]
     },
     "execution_count": 7,
     "metadata": {},
     "output_type": "execute_result"
    },
    {
     "data": {
      "image/png": "[encoded data removed]",
      "text/plain": [
       "<Figure size 640x480 with 1 Axes>"
      ]
     },
     "metadata": {},
     "output_type": "display_data"
    }
   ],
   "source": [
    "fig,ax = plt.subplots()\n",
    "\n",
    "colors = {\"netflix\":\"#E50914\",\"amazon prime\":\"#00A8E1\",\"disney plus\":\"#113CCF\",\"hulu\":\"#1ce783\"}\n",
    "left = zeros(20)\n",
    "\n",
    "for platform in [\"netflix\",\"disney plus\",\"hulu\",\"amazon prime\"]:\n",
    "    ax.barh(\n",
    "        y=df1.index.values,\n",
    "        width = df1[platform].values,\n",
    "        left = left,\n",
    "        color = colors[platform]\n",
    "        )\n",
    "    left = left +  df1[platform].values\n",
    "\n",
    "#Customization:\n",
    "#region\n",
    "\n",
    "ax.set_title(\"Top 20 Countries: Content on Stremaming Platforms (2018)\")\n",
    "ax.grid(which=\"both\",axis=\"x\")\n",
    "fig.patch.set_facecolor(\"lightcyan\")\n",
    "ax.patch.set_facecolor(\"slategrey\")\n",
    "\n",
    "labels = list(colors.keys())\n",
    "handles = [plt.Rectangle((0,0),1,1, color=colors[label]) for label in labels]\n",
    "ax.legend(handles, labels)\n",
    "\n",
    "#endregion"
   ]
  }
 ],
 "metadata": {
  "kernelspec": {
   "display_name": "streaming_services",
   "language": "python",
   "name": "python3"
  },
  "language_info": {
   "codemirror_mode": {
    "name": "ipython",
    "version": 3
   },
   "file_extension": ".py",
   "mimetype": "text/x-python",
   "name": "python",
   "nbconvert_exporter": "python",
   "pygments_lexer": "ipython3",
   "version": "3.10.12"
  },
  "orig_nbformat": 4
 },
 "nbformat": 4,
 "nbformat_minor": 2
}
